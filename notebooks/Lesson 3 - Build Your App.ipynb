{
 "cells": [
  {
   "cell_type": "markdown",
   "metadata": {},
   "source": [
    "<img src=\"../images/bokeh-logo.svg\" alt=\"bokeh\" width=\"300\">"
   ]
  },
  {
   "cell_type": "markdown",
   "metadata": {},
   "source": [
    "# Build Your App\n",
    "\n",
    "In this finally lesson, we gonna wrap things up by using all we have learnt to build apps. In the first part, you will build an app that can demonstrate linear model fitting. We will do it step by step and use the skills that we acquired (or even recycle some codes).\n",
    "\n",
    "In the second part, it'a an open project! You can do whatever you want and create your own app. You are also welcome to work in groups, share ideas or showcase your work in our [Gitter community](https://gitter.im/jupytercon-2020-Cheukting/community?utm_source=share-link&utm_medium=link&utm_campaign=share-link).\n",
    "\n",
    "## Prerequisite\n",
    "\n",
    "* basic knowledge of Python\n",
    "* basic knowledge of JavaScript\n",
    "* basic knowledge of Pandas\n",
    "* knowledge of Bokeh from the previous lessons\n",
    "\n",
    "## Goal\n",
    "\n",
    "* being able to build interactive app with Bokeh in Jupyter notebook\n",
    "* have fun\n",
    "\n",
    "## Estimated time needed\n",
    "\n",
    "60 - 90 mins for part 1. Part 2 is optional."
   ]
  },
  {
   "cell_type": "markdown",
   "metadata": {},
   "source": [
    "# 1. Linear Fitting App\n",
    "\n",
    "Now, we will try to build an app that will have 2 sliders, one is controlling the slope of the fitting line the other is controlling the intercept of the fitting line. For example:\n",
    "\n",
    "`Y’ = Xb + A`\n",
    "\n",
    "where `b` is the slope and `A` is the intercept.\n",
    "\n",
    "We will also calculate the **sum of error square** of the fit. Where\n",
    "\n",
    "`error = Y'-Y`\n",
    "\n",
    "The layout of the app is a `column` layout with 4 elements: Slider + Slider + Plot + Div. Just like the demo here:\n",
    "\n",
    "<img src=\"../images/line_reg.gif\">"
   ]
  },
  {
   "cell_type": "markdown",
   "metadata": {},
   "source": [
    "## 1.1 Make a scatter plot from data source\n",
    "\n",
    "The first step, is to make a scatter plot from the DataFram data source. I am giving that to you, you just need to apply what you learn form lesson 1 to make the plot. Feel free to set the color or esthetic to make it pretty.\n",
    "\n",
    "**Use the cell below to make your plot.**"
   ]
  },
  {
   "cell_type": "code",
   "execution_count": 1,
   "metadata": {},
   "outputs": [],
   "source": [
    "import pandas as pd\n",
    "\n",
    "data_df = pd.DataFrame().from_dict({'X': [1,2,3,4,5], 'Y': [1,2,1.3,3.75,2.25]})\n",
    "\n",
    "### start plotting here ###"
   ]
  },
  {
   "cell_type": "markdown",
   "metadata": {},
   "source": [
    "## 1.2 Calculate Y' and plot a line\n",
    "\n",
    "Using to the code we had, let's add 3 more columns to the `data_df`: `data_df['b']`, `data_df['A']` and `data_df['Y_pred']` following our equation:\n",
    "\n",
    "`Y’ = Xb + A`\n",
    "\n",
    "where `Y_pred` is `Y'`\n",
    "\n",
    "You can set `data_df['b']` and `data_df['A']` to any resonable constant value as an initial value.\n",
    "\n",
    "Then we will plot a line with `X` and `Y_pred` on the same plot.\n",
    "\n",
    "**Use the cell below to make your plot. You can copy and paste the code from above and add in the changes.**"
   ]
  },
  {
   "cell_type": "code",
   "execution_count": 2,
   "metadata": {},
   "outputs": [],
   "source": [
    "# your code here"
   ]
  },
  {
   "cell_type": "markdown",
   "metadata": {},
   "source": [
    "## 1.3 Create layout and elements\n",
    "\n",
    "Now, let's create the app layout and elements. The layout of the app is a `column` layout with 4 elements: Slider + Slider + Plot + Div. You can name them `slider_b`, `slider_A`, `plot` and `div`. Where plot is the plot that we have done in the cell above. Right now the sliders does nothing, we will add the callbacks later.\n",
    "\n",
    "**Use the cell below to make your plot. You can copy and paste the code from above and add in the changes.**"
   ]
  },
  {
   "cell_type": "code",
   "execution_count": 3,
   "metadata": {},
   "outputs": [],
   "source": [
    "# your code here"
   ]
  },
  {
   "cell_type": "markdown",
   "metadata": {},
   "source": [
    "## 1.4 Create callback for slider_b\n",
    "\n",
    "Remember the last exercise form lesson 2? We created a callback to make a slider changes the slope of a straight line. Let's do the same for `slider_b`. Use it to change the slope of the line in the plot. You don't ahve to set the `js_on_change` yet, just use `CustomJS` to create a call back names `callback_b`.\n",
    "\n",
    "Hint: you will also have to update `b` in the data source.\n",
    "\n",
    "**Use the cell below to make your plot. You can copy and paste the code from above and add in the changes.**"
   ]
  },
  {
   "cell_type": "code",
   "execution_count": 4,
   "metadata": {},
   "outputs": [],
   "source": [
    "# your code here"
   ]
  },
  {
   "cell_type": "markdown",
   "metadata": {},
   "source": [
    "## 1.5 Create callback to slider_A\n",
    "\n",
    "In similar mannor, create a callback `callback_A` for `slider_A`.\n",
    "\n",
    "Hint: you will also have to update `A` in the data source.\n",
    "\n",
    "**Use the cell below to make your plot. You can copy and paste the code from above and add in the changes.**"
   ]
  },
  {
   "cell_type": "code",
   "execution_count": 5,
   "metadata": {},
   "outputs": [],
   "source": [
    "# your code here"
   ]
  },
  {
   "cell_type": "markdown",
   "metadata": {},
   "source": [
    "## 1.6 Create callback for the div\n",
    "\n",
    "When we slide any of the sliders, the value of the **sum of error square** will change. So we need a callback for the div to display the new **sum of error square** dynamically. Create a callback `change_text` which:\n",
    "\n",
    "1. Use the data to calculate the **sum of error square**\n",
    "2. Change the `text` of `div` and display the **sum of error square**\n",
    "\n",
    "**Use the cell below to make your plot. You can copy and paste the code from above and add in the changes.**"
   ]
  },
  {
   "cell_type": "code",
   "execution_count": 6,
   "metadata": {},
   "outputs": [],
   "source": [
    "# your code here"
   ]
  },
  {
   "cell_type": "markdown",
   "metadata": {},
   "source": [
    "## 1.7 Let's put them together\n",
    "\n",
    "Okay, let's think about how the app works. There are 2 elements that will trigger changes when the `value` of them changes:\n",
    "\n",
    "1. when `slider_b`'s `value` changes, the `callback_b` and `change_text` will be triggered\n",
    "2. when `slider_A`'s `value` changes, the `callback_A` and `change_text` will be triggered\n",
    "\n",
    "Use `js_on_change` to set these behaviours.\n",
    "\n",
    "**Use the cell below to make your plot. You can copy and paste the code from above and add in the changes.**"
   ]
  },
  {
   "cell_type": "code",
   "execution_count": 7,
   "metadata": {},
   "outputs": [],
   "source": [
    "# your code here"
   ]
  },
  {
   "cell_type": "markdown",
   "metadata": {},
   "source": [
    "If it's done correctly, the app should work like the demo animation above. If you are really struggling. The complete code can be found on [my blog post](https://cheuk.dev/2020/07/20/shiny-app-python/)."
   ]
  },
  {
   "cell_type": "markdown",
   "metadata": {},
   "source": [
    "# 2. (Optional) Open Project\n",
    "\n",
    "This last exercise is a open project. You are not required to finish it as a part of this tutorial but it will be fun to do it! You can use the Pokemon data that we provided (or any other open data) for this. The idea is to create an interactive app to present the interesting finding in the data. Here are some ideas for you to start:\n",
    "\n",
    "1. Create a linear fitting app to find the corelation between the HP and the Defence of the Pokemons\n",
    "\n",
    "2. Create an interactive presentation to compare the Attack of different types of Pokemons in different Generations. Users can choose which Generation to look at form a drop down menu.\n",
    "\n",
    "You are welcome to work in groups or share ideas. We have a [Gitter community](https://gitter.im/jupytercon-2020-Cheukting/community?utm_source=share-link&utm_medium=link&utm_campaign=share-link) where you can find people to work together.\n",
    "\n",
    "Also, you are welcome to show your finished project in the Gitter."
   ]
  }
 ],
 "metadata": {
  "kernelspec": {
   "display_name": "Python 3",
   "language": "python",
   "name": "python3"
  },
  "language_info": {
   "codemirror_mode": {
    "name": "ipython",
    "version": 3
   },
   "file_extension": ".py",
   "mimetype": "text/x-python",
   "name": "python",
   "nbconvert_exporter": "python",
   "pygments_lexer": "ipython3",
   "version": "3.6.8"
  }
 },
 "nbformat": 4,
 "nbformat_minor": 4
}
